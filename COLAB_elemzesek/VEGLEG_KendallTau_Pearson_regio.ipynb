{
 "cells": [
  {
   "cell_type": "markdown",
   "id": "20f25a3f",
   "metadata": {},
   "source": [
    "### Kendall tau és Pearson korreláció"
   ]
  },
  {
   "cell_type": "markdown",
   "id": "2586007a",
   "metadata": {},
   "source": [
    "##### Fontos könyvtárak betöltése"
   ]
  },
  {
   "cell_type": "markdown",
   "id": "98f5a32c",
   "metadata": {},
   "source": [
    "Forrás: https://hu.wikipedia.org/wiki/Magyarorsz%C3%A1g_r%C3%A9gi%C3%B3i_az_emberi_fejletts%C3%A9gi_index_alapj%C3%A1n"
   ]
  },
  {
   "cell_type": "code",
   "execution_count": 1,
   "id": "333ac08f",
   "metadata": {},
   "outputs": [
    {
     "name": "stderr",
     "output_type": "stream",
     "text": [
      "C:\\Users\\erika\\anaconda3\\lib\\site-packages\\pandas\\core\\computation\\expressions.py:21: UserWarning: Pandas requires version '2.8.4' or newer of 'numexpr' (version '2.8.3' currently installed).\n",
      "  from pandas.core.computation.check import NUMEXPR_INSTALLED\n",
      "C:\\Users\\erika\\anaconda3\\lib\\site-packages\\pandas\\core\\arrays\\masked.py:60: UserWarning: Pandas requires version '1.3.6' or newer of 'bottleneck' (version '1.3.5' currently installed).\n",
      "  from pandas.core import (\n"
     ]
    }
   ],
   "source": [
    "import numpy as np\n",
    "import pandas as pd\n",
    "import matplotlib.pyplot as plt\n",
    "from scipy.stats import kendalltau\n",
    "from scipy.stats import pearsonr\n",
    "\n",
    "from sklearn.preprocessing import StandardScaler"
   ]
  },
  {
   "cell_type": "markdown",
   "id": "3a3cce32",
   "metadata": {},
   "source": [
    "Forrás alapján szerkesztett táblázat betöltése"
   ]
  },
  {
   "cell_type": "code",
   "execution_count": 2,
   "id": "d387ff90",
   "metadata": {},
   "outputs": [],
   "source": [
    "data = pd.read_csv(\"HDI_2.csv\")"
   ]
  },
  {
   "cell_type": "code",
   "execution_count": 3,
   "id": "9d3d8a68",
   "metadata": {},
   "outputs": [
    {
     "data": {
      "text/html": [
       "<div>\n",
       "<style scoped>\n",
       "    .dataframe tbody tr th:only-of-type {\n",
       "        vertical-align: middle;\n",
       "    }\n",
       "\n",
       "    .dataframe tbody tr th {\n",
       "        vertical-align: top;\n",
       "    }\n",
       "\n",
       "    .dataframe thead th {\n",
       "        text-align: right;\n",
       "    }\n",
       "</style>\n",
       "<table border=\"1\" class=\"dataframe\">\n",
       "  <thead>\n",
       "    <tr style=\"text-align: right;\">\n",
       "      <th></th>\n",
       "      <th>Rang</th>\n",
       "      <th>Regio_kod</th>\n",
       "      <th>Régió</th>\n",
       "      <th>2019 HDI</th>\n",
       "      <th>BMI_median_region</th>\n",
       "      <th>BMI_atlag</th>\n",
       "    </tr>\n",
       "  </thead>\n",
       "  <tbody>\n",
       "    <tr>\n",
       "      <th>0</th>\n",
       "      <td>1</td>\n",
       "      <td>12</td>\n",
       "      <td>Közép-Magyarország</td>\n",
       "      <td>0.93</td>\n",
       "      <td>4</td>\n",
       "      <td>29.15</td>\n",
       "    </tr>\n",
       "    <tr>\n",
       "      <th>1</th>\n",
       "      <td>2</td>\n",
       "      <td>30</td>\n",
       "      <td>Nyugat-Dunántúl</td>\n",
       "      <td>0.87</td>\n",
       "      <td>4</td>\n",
       "      <td>29.19</td>\n",
       "    </tr>\n",
       "    <tr>\n",
       "      <th>2</th>\n",
       "      <td>3</td>\n",
       "      <td>20</td>\n",
       "      <td>Közép-Dunántúl</td>\n",
       "      <td>0.85</td>\n",
       "      <td>5</td>\n",
       "      <td>30.06</td>\n",
       "    </tr>\n",
       "    <tr>\n",
       "      <th>3</th>\n",
       "      <td>4</td>\n",
       "      <td>70</td>\n",
       "      <td>Dél-Alföld</td>\n",
       "      <td>0.85</td>\n",
       "      <td>3</td>\n",
       "      <td>23.12</td>\n",
       "    </tr>\n",
       "    <tr>\n",
       "      <th>4</th>\n",
       "      <td>5</td>\n",
       "      <td>40</td>\n",
       "      <td>Dél-Dunántúl</td>\n",
       "      <td>0.84</td>\n",
       "      <td>4</td>\n",
       "      <td>25.37</td>\n",
       "    </tr>\n",
       "    <tr>\n",
       "      <th>5</th>\n",
       "      <td>6</td>\n",
       "      <td>60</td>\n",
       "      <td>Észak-Alföld</td>\n",
       "      <td>0.83</td>\n",
       "      <td>4</td>\n",
       "      <td>29.67</td>\n",
       "    </tr>\n",
       "    <tr>\n",
       "      <th>6</th>\n",
       "      <td>7</td>\n",
       "      <td>50</td>\n",
       "      <td>Észak-Magyarország</td>\n",
       "      <td>0.82</td>\n",
       "      <td>4</td>\n",
       "      <td>28.64</td>\n",
       "    </tr>\n",
       "  </tbody>\n",
       "</table>\n",
       "</div>"
      ],
      "text/plain": [
       "   Rang  Regio_kod               Régió  2019 HDI  BMI_median_region  BMI_atlag\n",
       "0     1         12  Közép-Magyarország      0.93                  4      29.15\n",
       "1     2         30     Nyugat-Dunántúl      0.87                  4      29.19\n",
       "2     3         20      Közép-Dunántúl      0.85                  5      30.06\n",
       "3     4         70          Dél-Alföld      0.85                  3      23.12\n",
       "4     5         40        Dél-Dunántúl      0.84                  4      25.37\n",
       "5     6         60        Észak-Alföld      0.83                  4      29.67\n",
       "6     7         50  Észak-Magyarország      0.82                  4      28.64"
      ]
     },
     "execution_count": 3,
     "metadata": {},
     "output_type": "execute_result"
    }
   ],
   "source": [
    "data"
   ]
  },
  {
   "cell_type": "markdown",
   "id": "4eef8a3e",
   "metadata": {},
   "source": [
    "#### Kendall Tau korreláció a Rang és a BMI_median_region változókra"
   ]
  },
  {
   "cell_type": "code",
   "execution_count": 4,
   "id": "6bd33de6",
   "metadata": {},
   "outputs": [
    {
     "name": "stdout",
     "output_type": "stream",
     "text": [
      "Kendall-tau korreláció: -0.0657951694959769\n",
      "P-érték: 0.8492172333406262\n"
     ]
    }
   ],
   "source": [
    "tau, p_value = kendalltau(data['Rang'], data['BMI_median_region'])\n",
    "# Eredmények\n",
    "print(f\"Kendall-tau korreláció: {tau}\")\n",
    "print(f\"P-érték: {p_value}\")"
   ]
  },
  {
   "cell_type": "markdown",
   "id": "31ebcadf",
   "metadata": {},
   "source": [
    "#### Pearson korreláció a BMI_atlag és a 2019 HDI változókra"
   ]
  },
  {
   "cell_type": "code",
   "execution_count": 7,
   "id": "112cffb7",
   "metadata": {},
   "outputs": [],
   "source": [
    "# BMI_atlag és 2019 HDI oszlopok kiválasztása\n",
    "bmi_atlag = data[\"BMI_atlag\"]\n",
    "hdi_2019 = data[\"2019 HDI\"]"
   ]
  },
  {
   "cell_type": "code",
   "execution_count": 8,
   "id": "9ace4e02",
   "metadata": {},
   "outputs": [],
   "source": [
    "# Pearson korrelációs együttható és p-érték kiszámítása\n",
    "correlation, p_value = pearsonr(bmi_atlag, hdi_2019)"
   ]
  },
  {
   "cell_type": "code",
   "execution_count": 9,
   "id": "77ffa764",
   "metadata": {},
   "outputs": [
    {
     "name": "stdout",
     "output_type": "stream",
     "text": [
      "Pearson korrelációs együttható: 0.16491118783460257\n",
      "P-érték: 0.7238293723550224\n"
     ]
    }
   ],
   "source": [
    "# Eredmények kiírása\n",
    "print(f\"Pearson korrelációs együttható: {correlation}\")\n",
    "print(f\"P-érték: {p_value}\")"
   ]
  },
  {
   "cell_type": "code",
   "execution_count": 10,
   "id": "49549304",
   "metadata": {},
   "outputs": [
    {
     "name": "stdout",
     "output_type": "stream",
     "text": [
      "A két változó között pozitív korreláció van.\n"
     ]
    }
   ],
   "source": [
    "# Korreláció erősségének és irányának értelmezése\n",
    "if correlation > 0:\n",
    "    print(\"A két változó között pozitív korreláció van.\")\n",
    "elif correlation < 0:\n",
    "    print(\"A két változó között negatív korreláció van.\")\n",
    "else:\n",
    "    print(\"A két változó között nincs lineáris korreláció.\")"
   ]
  },
  {
   "cell_type": "code",
   "execution_count": 11,
   "id": "772fca22",
   "metadata": {},
   "outputs": [
    {
     "name": "stdout",
     "output_type": "stream",
     "text": [
      "A korreláció nem szignifikáns (p > 0.05).\n"
     ]
    }
   ],
   "source": [
    "# P-érték alapján a szignifikancia megállapítása\n",
    "alpha = 0.05  # Szignifikancia szint\n",
    "if p_value < alpha:\n",
    "    print(f\"A korreláció szignifikáns (p < {alpha}).\")\n",
    "else:\n",
    "    print(f\"A korreláció nem szignifikáns (p > {alpha}).\")"
   ]
  },
  {
   "cell_type": "code",
   "execution_count": null,
   "id": "e946405b",
   "metadata": {},
   "outputs": [],
   "source": []
  },
  {
   "cell_type": "markdown",
   "id": "d22ad9d1",
   "metadata": {},
   "source": [
    "#### Skálázott adatokkal"
   ]
  },
  {
   "cell_type": "code",
   "execution_count": 12,
   "id": "06790bcd",
   "metadata": {},
   "outputs": [],
   "source": [
    "# BMI_atlag és 2019 HDI oszlopok kiválasztása\n",
    "bmi_atlag = data[\"BMI_atlag\"]\n",
    "hdi_2019 = data[\"2019 HDI\"]"
   ]
  },
  {
   "cell_type": "code",
   "execution_count": 13,
   "id": "fe3d188a",
   "metadata": {},
   "outputs": [],
   "source": [
    "# Skálázás standardizálással (Z-score normalizálás)\n",
    "scaler = StandardScaler()\n",
    "bmi_atlag_scaled = scaler.fit_transform(bmi_atlag.values.reshape(-1, 1)).flatten()\n",
    "hdi_2019_scaled = scaler.fit_transform(hdi_2019.values.reshape(-1, 1)).flatten()"
   ]
  },
  {
   "cell_type": "code",
   "execution_count": 14,
   "id": "9d8dab2c",
   "metadata": {},
   "outputs": [],
   "source": [
    "# Pearson korrelációs együttható és p-érték kiszámítása a skálázott adatokkal\n",
    "correlation_scaled, p_value_scaled = pearsonr(bmi_atlag_scaled, hdi_2019_scaled)"
   ]
  },
  {
   "cell_type": "code",
   "execution_count": 15,
   "id": "75a5085a",
   "metadata": {},
   "outputs": [
    {
     "name": "stdout",
     "output_type": "stream",
     "text": [
      "Skálázott adatokkal:\n",
      "Pearson korrelációs együttható: 0.1649111878346026\n",
      "P-érték: 0.7238293723550224\n"
     ]
    }
   ],
   "source": [
    "# Eredmények kiírása\n",
    "print(\"Skálázott adatokkal:\")\n",
    "print(f\"Pearson korrelációs együttható: {correlation_scaled}\")\n",
    "print(f\"P-érték: {p_value_scaled}\")"
   ]
  },
  {
   "cell_type": "code",
   "execution_count": 16,
   "id": "4c1af07b",
   "metadata": {},
   "outputs": [
    {
     "name": "stdout",
     "output_type": "stream",
     "text": [
      "A két változó között pozitív korreláció van.\n"
     ]
    }
   ],
   "source": [
    "# Korreláció erősségének és irányának értelmezése\n",
    "if correlation_scaled > 0:\n",
    "    print(\"A két változó között pozitív korreláció van.\")\n",
    "elif correlation_scaled < 0:\n",
    "    print(\"A két változó között negatív korreláció van.\")\n",
    "else:\n",
    "    print(\"A két változó között nincs lineáris korreláció.\")"
   ]
  },
  {
   "cell_type": "code",
   "execution_count": 17,
   "id": "1f0f8429",
   "metadata": {},
   "outputs": [
    {
     "name": "stdout",
     "output_type": "stream",
     "text": [
      "A korreláció nem szignifikáns (p > 0.05).\n"
     ]
    }
   ],
   "source": [
    "# P-érték alapján a szignifikancia megállapítása\n",
    "alpha = 0.05  # Szignifikancia szint\n",
    "if p_value_scaled < alpha:\n",
    "    print(f\"A korreláció szignifikáns (p < {alpha}).\")\n",
    "else:\n",
    "    print(f\"A korreláció nem szignifikáns (p > {alpha}).\")"
   ]
  },
  {
   "cell_type": "code",
   "execution_count": 18,
   "id": "6fce5593",
   "metadata": {},
   "outputs": [
    {
     "name": "stdout",
     "output_type": "stream",
     "text": [
      "\n",
      "Eredeti adatokkal:\n",
      "Pearson korrelációs együttható: 0.16491118783460257\n",
      "P-érték: 0.7238293723550224\n",
      "A két változó között pozitív korreláció van.\n",
      "A korreláció nem szignifikáns (p > 0.05).\n"
     ]
    }
   ],
   "source": [
    "# Eredeti adatokkal való számítás (összehasonlításképpen)\n",
    "correlation, p_value = pearsonr(bmi_atlag, hdi_2019)\n",
    "\n",
    "print(\"\\nEredeti adatokkal:\")\n",
    "print(f\"Pearson korrelációs együttható: {correlation}\")\n",
    "print(f\"P-érték: {p_value}\")\n",
    "\n",
    "# Korreláció erősségének és irányának értelmezése\n",
    "if correlation > 0:\n",
    "    print(\"A két változó között pozitív korreláció van.\")\n",
    "elif correlation < 0:\n",
    "    print(\"A két változó között negatív korreláció van.\")\n",
    "else:\n",
    "    print(\"A két változó között nincs lineáris korreláció.\")\n",
    "\n",
    "# P-érték alapján a szignifikancia megállapítása\n",
    "alpha = 0.05  # Szignifikancia szint\n",
    "if p_value < alpha:\n",
    "    print(f\"A korreláció szignifikáns (p < {alpha}).\")\n",
    "else:\n",
    "    print(f\"A korreláció nem szignifikáns (p > {alpha}).\")"
   ]
  },
  {
   "cell_type": "code",
   "execution_count": null,
   "id": "8b5835f1",
   "metadata": {},
   "outputs": [],
   "source": []
  },
  {
   "cell_type": "code",
   "execution_count": null,
   "id": "d01f630c",
   "metadata": {},
   "outputs": [],
   "source": []
  }
 ],
 "metadata": {
  "kernelspec": {
   "display_name": "Python 3 (ipykernel)",
   "language": "python",
   "name": "python3"
  },
  "language_info": {
   "codemirror_mode": {
    "name": "ipython",
    "version": 3
   },
   "file_extension": ".py",
   "mimetype": "text/x-python",
   "name": "python",
   "nbconvert_exporter": "python",
   "pygments_lexer": "ipython3",
   "version": "3.9.13"
  }
 },
 "nbformat": 4,
 "nbformat_minor": 5
}
