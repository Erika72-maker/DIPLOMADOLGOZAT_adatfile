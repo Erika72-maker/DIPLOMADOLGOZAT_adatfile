{
 "cells": [
  {
   "cell_type": "markdown",
   "id": "73fdc157",
   "metadata": {},
   "source": [
    "### Klaszterelemzés "
   ]
  },
  {
   "cell_type": "markdown",
   "id": "b11c7e99",
   "metadata": {},
   "source": [
    "#### DBSCAN (Density-Based Spatial Clustering of Applications with Noise) Clustering (sűrűség alapú modell). "
   ]
  },
  {
   "cell_type": "markdown",
   "id": "8f5550bb",
   "metadata": {},
   "source": [
    "##### Fontosabb könyvtárak betöltése"
   ]
  },
  {
   "cell_type": "code",
   "execution_count": 1,
   "id": "71cec12d",
   "metadata": {},
   "outputs": [
    {
     "name": "stderr",
     "output_type": "stream",
     "text": [
      "C:\\Users\\erika\\anaconda3\\lib\\site-packages\\pandas\\core\\computation\\expressions.py:21: UserWarning: Pandas requires version '2.8.4' or newer of 'numexpr' (version '2.8.3' currently installed).\n",
      "  from pandas.core.computation.check import NUMEXPR_INSTALLED\n",
      "C:\\Users\\erika\\anaconda3\\lib\\site-packages\\pandas\\core\\arrays\\masked.py:60: UserWarning: Pandas requires version '1.3.6' or newer of 'bottleneck' (version '1.3.5' currently installed).\n",
      "  from pandas.core import (\n"
     ]
    }
   ],
   "source": [
    "import pandas as pd\n",
    "from sklearn.preprocessing import StandardScaler\n",
    "from sklearn.cluster import DBSCAN\n",
    "import matplotlib.pyplot as plt"
   ]
  },
  {
   "cell_type": "code",
   "execution_count": 2,
   "id": "afb7eaa9",
   "metadata": {},
   "outputs": [],
   "source": [
    "# Adatok betöltése\n",
    "df= pd.read_excel(\"HDI_jo.xlsx\")"
   ]
  },
  {
   "cell_type": "code",
   "execution_count": 3,
   "id": "ab57c4e7",
   "metadata": {},
   "outputs": [
    {
     "data": {
      "text/html": [
       "<div>\n",
       "<style scoped>\n",
       "    .dataframe tbody tr th:only-of-type {\n",
       "        vertical-align: middle;\n",
       "    }\n",
       "\n",
       "    .dataframe tbody tr th {\n",
       "        vertical-align: top;\n",
       "    }\n",
       "\n",
       "    .dataframe thead th {\n",
       "        text-align: right;\n",
       "    }\n",
       "</style>\n",
       "<table border=\"1\" class=\"dataframe\">\n",
       "  <thead>\n",
       "    <tr style=\"text-align: right;\">\n",
       "      <th></th>\n",
       "      <th>County</th>\n",
       "      <th>HDI</th>\n",
       "      <th>HDI_modified</th>\n",
       "      <th>HDI_weighted</th>\n",
       "      <th>BMI_mean</th>\n",
       "    </tr>\n",
       "  </thead>\n",
       "  <tbody>\n",
       "    <tr>\n",
       "      <th>0</th>\n",
       "      <td>Vas</td>\n",
       "      <td>0.930258</td>\n",
       "      <td>0.828275</td>\n",
       "      <td>0.863043</td>\n",
       "      <td>28.58</td>\n",
       "    </tr>\n",
       "    <tr>\n",
       "      <th>1</th>\n",
       "      <td>Szabolcs-Szatmár-Bereg</td>\n",
       "      <td>0.811876</td>\n",
       "      <td>0.576437</td>\n",
       "      <td>0.597672</td>\n",
       "      <td>30.41</td>\n",
       "    </tr>\n",
       "    <tr>\n",
       "      <th>2</th>\n",
       "      <td>Zala</td>\n",
       "      <td>0.820084</td>\n",
       "      <td>0.774539</td>\n",
       "      <td>0.783497</td>\n",
       "      <td>30.50</td>\n",
       "    </tr>\n",
       "    <tr>\n",
       "      <th>3</th>\n",
       "      <td>Veszprém</td>\n",
       "      <td>0.868295</td>\n",
       "      <td>0.751246</td>\n",
       "      <td>0.786627</td>\n",
       "      <td>31.66</td>\n",
       "    </tr>\n",
       "    <tr>\n",
       "      <th>4</th>\n",
       "      <td>Csongrád-Csanád</td>\n",
       "      <td>0.880785</td>\n",
       "      <td>0.750642</td>\n",
       "      <td>0.775335</td>\n",
       "      <td>21.69</td>\n",
       "    </tr>\n",
       "    <tr>\n",
       "      <th>5</th>\n",
       "      <td>Bács-Kiskun</td>\n",
       "      <td>0.894190</td>\n",
       "      <td>0.759333</td>\n",
       "      <td>0.779526</td>\n",
       "      <td>22.83</td>\n",
       "    </tr>\n",
       "    <tr>\n",
       "      <th>6</th>\n",
       "      <td>Nógrád</td>\n",
       "      <td>0.813489</td>\n",
       "      <td>0.501370</td>\n",
       "      <td>0.566693</td>\n",
       "      <td>36.67</td>\n",
       "    </tr>\n",
       "    <tr>\n",
       "      <th>7</th>\n",
       "      <td>Borsod-Abaúj-Zemplén</td>\n",
       "      <td>0.832700</td>\n",
       "      <td>0.571982</td>\n",
       "      <td>0.637282</td>\n",
       "      <td>21.89</td>\n",
       "    </tr>\n",
       "    <tr>\n",
       "      <th>8</th>\n",
       "      <td>Heves</td>\n",
       "      <td>0.835444</td>\n",
       "      <td>0.686818</td>\n",
       "      <td>0.722005</td>\n",
       "      <td>27.33</td>\n",
       "    </tr>\n",
       "    <tr>\n",
       "      <th>9</th>\n",
       "      <td>Hajdú-Bihar</td>\n",
       "      <td>0.817093</td>\n",
       "      <td>0.673574</td>\n",
       "      <td>0.695380</td>\n",
       "      <td>29.93</td>\n",
       "    </tr>\n",
       "    <tr>\n",
       "      <th>10</th>\n",
       "      <td>Jász-Nagykun-Szolnok</td>\n",
       "      <td>0.849277</td>\n",
       "      <td>0.608575</td>\n",
       "      <td>0.661440</td>\n",
       "      <td>27.95</td>\n",
       "    </tr>\n",
       "    <tr>\n",
       "      <th>11</th>\n",
       "      <td>Baranya</td>\n",
       "      <td>0.870056</td>\n",
       "      <td>0.534138</td>\n",
       "      <td>0.587962</td>\n",
       "      <td>26.93</td>\n",
       "    </tr>\n",
       "    <tr>\n",
       "      <th>12</th>\n",
       "      <td>Somogy</td>\n",
       "      <td>0.861109</td>\n",
       "      <td>0.623468</td>\n",
       "      <td>0.657346</td>\n",
       "      <td>22.46</td>\n",
       "    </tr>\n",
       "    <tr>\n",
       "      <th>13</th>\n",
       "      <td>Győr-Moson-Sopron</td>\n",
       "      <td>0.903336</td>\n",
       "      <td>0.847588</td>\n",
       "      <td>0.876613</td>\n",
       "      <td>27.38</td>\n",
       "    </tr>\n",
       "    <tr>\n",
       "      <th>14</th>\n",
       "      <td>Fejér</td>\n",
       "      <td>0.815296</td>\n",
       "      <td>0.706256</td>\n",
       "      <td>0.744293</td>\n",
       "      <td>24.78</td>\n",
       "    </tr>\n",
       "    <tr>\n",
       "      <th>15</th>\n",
       "      <td>főváros</td>\n",
       "      <td>0.870413</td>\n",
       "      <td>0.888488</td>\n",
       "      <td>0.879828</td>\n",
       "      <td>28.31</td>\n",
       "    </tr>\n",
       "    <tr>\n",
       "      <th>16</th>\n",
       "      <td>Pest</td>\n",
       "      <td>0.836183</td>\n",
       "      <td>0.778294</td>\n",
       "      <td>0.803563</td>\n",
       "      <td>29.86</td>\n",
       "    </tr>\n",
       "    <tr>\n",
       "      <th>17</th>\n",
       "      <td>Tolna</td>\n",
       "      <td>0.780350</td>\n",
       "      <td>0.623657</td>\n",
       "      <td>0.655167</td>\n",
       "      <td>29.35</td>\n",
       "    </tr>\n",
       "    <tr>\n",
       "      <th>18</th>\n",
       "      <td>Békés</td>\n",
       "      <td>0.819827</td>\n",
       "      <td>0.660551</td>\n",
       "      <td>0.681422</td>\n",
       "      <td>23.93</td>\n",
       "    </tr>\n",
       "    <tr>\n",
       "      <th>19</th>\n",
       "      <td>Komárom-Esztergom</td>\n",
       "      <td>0.750000</td>\n",
       "      <td>0.670000</td>\n",
       "      <td>0.710000</td>\n",
       "      <td>32.04</td>\n",
       "    </tr>\n",
       "  </tbody>\n",
       "</table>\n",
       "</div>"
      ],
      "text/plain": [
       "                    County       HDI  HDI_modified  HDI_weighted  BMI_mean\n",
       "0                      Vas  0.930258      0.828275      0.863043     28.58\n",
       "1   Szabolcs-Szatmár-Bereg  0.811876      0.576437      0.597672     30.41\n",
       "2                     Zala  0.820084      0.774539      0.783497     30.50\n",
       "3                 Veszprém  0.868295      0.751246      0.786627     31.66\n",
       "4          Csongrád-Csanád  0.880785      0.750642      0.775335     21.69\n",
       "5              Bács-Kiskun  0.894190      0.759333      0.779526     22.83\n",
       "6                   Nógrád  0.813489      0.501370      0.566693     36.67\n",
       "7     Borsod-Abaúj-Zemplén  0.832700      0.571982      0.637282     21.89\n",
       "8                    Heves  0.835444      0.686818      0.722005     27.33\n",
       "9              Hajdú-Bihar  0.817093      0.673574      0.695380     29.93\n",
       "10    Jász-Nagykun-Szolnok  0.849277      0.608575      0.661440     27.95\n",
       "11                 Baranya  0.870056      0.534138      0.587962     26.93\n",
       "12                  Somogy  0.861109      0.623468      0.657346     22.46\n",
       "13       Győr-Moson-Sopron  0.903336      0.847588      0.876613     27.38\n",
       "14                   Fejér  0.815296      0.706256      0.744293     24.78\n",
       "15                 főváros  0.870413      0.888488      0.879828     28.31\n",
       "16                    Pest  0.836183      0.778294      0.803563     29.86\n",
       "17                   Tolna  0.780350      0.623657      0.655167     29.35\n",
       "18                   Békés  0.819827      0.660551      0.681422     23.93\n",
       "19       Komárom-Esztergom  0.750000      0.670000      0.710000     32.04"
      ]
     },
     "execution_count": 3,
     "metadata": {},
     "output_type": "execute_result"
    }
   ],
   "source": [
    "df"
   ]
  },
  {
   "cell_type": "markdown",
   "id": "64f2d25d",
   "metadata": {},
   "source": [
    "##### Standardizálás"
   ]
  },
  {
   "cell_type": "code",
   "execution_count": 7,
   "id": "8210661a",
   "metadata": {},
   "outputs": [],
   "source": [
    "# Az adatok standardizálása\n",
    "scaler = StandardScaler()\n",
    "scaled_data = scaler.fit_transform(df[['HDI', 'BMI_mean']])"
   ]
  },
  {
   "cell_type": "markdown",
   "id": "a05822b6",
   "metadata": {},
   "source": [
    "#### DBSCAN klaszterezés"
   ]
  },
  {
   "cell_type": "code",
   "execution_count": 8,
   "id": "4bdea94d",
   "metadata": {},
   "outputs": [],
   "source": [
    "dbscan = DBSCAN(eps=0.7, min_samples=3)  # zajos adatokat eredményezett\n",
    "#dbscan = DBSCAN(eps=0.7, min_samples=2)  # Növeljük az eps-t és csökkentjük a min_samples-t\n",
    "df['Cluster'] = dbscan.fit_predict(scaled_data)"
   ]
  },
  {
   "cell_type": "markdown",
   "id": "8b691a30",
   "metadata": {},
   "source": [
    "- eps: Ez a paraméter a távolságot határozza meg, amelyen belül két adatpontot összekapcsolhatunk, hogy azok ugyanabba a klaszterbe tartozzanak.\n",
    "- min_samples: Ez a paraméter azt határozza meg, hogy hány pontnak kell minimum lennie egy klaszterhez."
   ]
  },
  {
   "cell_type": "markdown",
   "id": "e35a3762",
   "metadata": {},
   "source": [
    "#### Eredmények megjelenítése"
   ]
  },
  {
   "cell_type": "code",
   "execution_count": 9,
   "id": "302b57bd",
   "metadata": {},
   "outputs": [
    {
     "data": {
      "image/png": "[encoded data removed]",
      "text/plain": [
       "<Figure size 1000x600 with 2 Axes>"
      ]
     },
     "metadata": {},
     "output_type": "display_data"
    }
   ],
   "source": [
    "#Klaszterek megjelenítése\n",
    "plt.figure(figsize=(10, 6))\n",
    "plt.scatter(df['HDI'], df['BMI_mean'], c=df['Cluster'], cmap='viridis', s=100)\n",
    "plt.title('DBSCAN Clustering - HDI vs BMI Mean')\n",
    "plt.xlabel('HDI (Human Development Index)')\n",
    "plt.ylabel('BMI Mean')\n",
    "plt.colorbar(label='Cluster')\n",
    "plt.show()"
   ]
  },
  {
   "cell_type": "markdown",
   "id": "4f29a653",
   "metadata": {},
   "source": [
    "#### Eredmények kiíratása"
   ]
  },
  {
   "cell_type": "code",
   "execution_count": 10,
   "id": "cbcba4a9",
   "metadata": {},
   "outputs": [
    {
     "name": "stdout",
     "output_type": "stream",
     "text": [
      "                    County       HDI  BMI_mean  Cluster\n",
      "0                      Vas  0.930258     28.58       -1\n",
      "1   Szabolcs-Szatmár-Bereg  0.811876     30.41        0\n",
      "2                     Zala  0.820084     30.50        0\n",
      "3                 Veszprém  0.868295     31.66       -1\n",
      "4          Csongrád-Csanád  0.880785     21.69        1\n",
      "5              Bács-Kiskun  0.894190     22.83        1\n",
      "6                   Nógrád  0.813489     36.67       -1\n",
      "7     Borsod-Abaúj-Zemplén  0.832700     21.89        1\n",
      "8                    Heves  0.835444     27.33        0\n",
      "9              Hajdú-Bihar  0.817093     29.93        0\n",
      "10    Jász-Nagykun-Szolnok  0.849277     27.95        0\n",
      "11                 Baranya  0.870056     26.93        0\n",
      "12                  Somogy  0.861109     22.46        1\n",
      "13       Győr-Moson-Sopron  0.903336     27.38       -1\n",
      "14                   Fejér  0.815296     24.78        1\n",
      "15                 főváros  0.870413     28.31        0\n",
      "16                    Pest  0.836183     29.86        0\n",
      "17                   Tolna  0.780350     29.35       -1\n",
      "18                   Békés  0.819827     23.93        1\n",
      "19       Komárom-Esztergom  0.750000     32.04       -1\n"
     ]
    }
   ],
   "source": [
    "# Eredmények kiíratása\n",
    "print(df[['County', 'HDI', 'BMI_mean', 'Cluster']])"
   ]
  },
  {
   "cell_type": "code",
   "execution_count": null,
   "id": "42683e5f",
   "metadata": {},
   "outputs": [],
   "source": []
  }
 ],
 "metadata": {
  "kernelspec": {
   "display_name": "Python 3 (ipykernel)",
   "language": "python",
   "name": "python3"
  },
  "language_info": {
   "codemirror_mode": {
    "name": "ipython",
    "version": 3
   },
   "file_extension": ".py",
   "mimetype": "text/x-python",
   "name": "python",
   "nbconvert_exporter": "python",
   "pygments_lexer": "ipython3",
   "version": "3.9.13"
  }
 },
 "nbformat": 4,
 "nbformat_minor": 5
}
