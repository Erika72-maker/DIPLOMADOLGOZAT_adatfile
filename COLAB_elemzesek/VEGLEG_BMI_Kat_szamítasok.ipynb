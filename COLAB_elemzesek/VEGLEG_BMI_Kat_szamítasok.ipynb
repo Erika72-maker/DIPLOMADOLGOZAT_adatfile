{
 "cells": [
  {
   "cell_type": "markdown",
   "id": "2386c255",
   "metadata": {},
   "source": [
    "### BMI értékek és kategóriák számítása"
   ]
  },
  {
   "cell_type": "markdown",
   "id": "8da5ebcc",
   "metadata": {},
   "source": [
    "Csak mellékszámítás, user input"
   ]
  },
  {
   "cell_type": "code",
   "execution_count": 5,
   "id": "333a39e7",
   "metadata": {},
   "outputs": [
    {
     "name": "stdout",
     "output_type": "stream",
     "text": [
      "Enter your weight in kilograms: 56\n",
      "Enter your height in meters: 167\n",
      "Your BMI is: 20.07960127648894\n",
      "You have a normal weight.\n"
     ]
    }
   ],
   "source": [
    "# BMI számításhot függvény létrehozása\n",
    "\n",
    "def calculate_bmi(weight, height):\n",
    "    bmi = weight / ((height/100) ** 2)\n",
    "    return bmi\n",
    "\n",
    "weight = float(input(\"Enter your weight in kilograms: \"))\n",
    "height = float(input(\"Enter your height in meters: \"))\n",
    "\n",
    "\n",
    "result = calculate_bmi(weight, height)\n",
    "print(\"Your BMI is:\", result)\n",
    "\n",
    "# BMI kategória intervallumok\n",
    "if result < 18.5:\n",
    "    print(\"You are underweight.\")\n",
    "elif 18.5 <= result <= 24.9:\n",
    "    print(\"You have a normal weight.\")\n",
    "elif 25 <= result <= 29.9:\n",
    "    print(\"You are overweight.\")\n",
    "else:\n",
    "    print(\"You are obese.\")"
   ]
  },
  {
   "cell_type": "markdown",
   "id": "a043d36d",
   "metadata": {},
   "source": [
    "#### Fontosabb könyvtár betöltése"
   ]
  },
  {
   "cell_type": "code",
   "execution_count": 2,
   "id": "56979943",
   "metadata": {},
   "outputs": [
    {
     "name": "stderr",
     "output_type": "stream",
     "text": [
      "C:\\Users\\erika\\anaconda3\\lib\\site-packages\\pandas\\core\\computation\\expressions.py:21: UserWarning: Pandas requires version '2.8.4' or newer of 'numexpr' (version '2.8.3' currently installed).\n",
      "  from pandas.core.computation.check import NUMEXPR_INSTALLED\n",
      "C:\\Users\\erika\\anaconda3\\lib\\site-packages\\pandas\\core\\arrays\\masked.py:60: UserWarning: Pandas requires version '1.3.6' or newer of 'bottleneck' (version '1.3.5' currently installed).\n",
      "  from pandas.core import (\n"
     ]
    }
   ],
   "source": [
    "import pandas as pd"
   ]
  },
  {
   "cell_type": "code",
   "execution_count": 8,
   "id": "9f9a599c",
   "metadata": {},
   "outputs": [
    {
     "data": {
      "text/html": [
       "<div>\n",
       "<style scoped>\n",
       "    .dataframe tbody tr th:only-of-type {\n",
       "        vertical-align: middle;\n",
       "    }\n",
       "\n",
       "    .dataframe tbody tr th {\n",
       "        vertical-align: top;\n",
       "    }\n",
       "\n",
       "    .dataframe thead th {\n",
       "        text-align: right;\n",
       "    }\n",
       "</style>\n",
       "<table border=\"1\" class=\"dataframe\">\n",
       "  <thead>\n",
       "    <tr style=\"text-align: right;\">\n",
       "      <th></th>\n",
       "      <th>Szamitott_BMI</th>\n",
       "    </tr>\n",
       "  </thead>\n",
       "  <tbody>\n",
       "    <tr>\n",
       "      <th>0</th>\n",
       "      <td>24.034610</td>\n",
       "    </tr>\n",
       "    <tr>\n",
       "      <th>1</th>\n",
       "      <td>36.139456</td>\n",
       "    </tr>\n",
       "    <tr>\n",
       "      <th>2</th>\n",
       "      <td>29.000595</td>\n",
       "    </tr>\n",
       "    <tr>\n",
       "      <th>3</th>\n",
       "      <td>23.120624</td>\n",
       "    </tr>\n",
       "    <tr>\n",
       "      <th>4</th>\n",
       "      <td>29.068773</td>\n",
       "    </tr>\n",
       "    <tr>\n",
       "      <th>...</th>\n",
       "      <td>...</td>\n",
       "    </tr>\n",
       "    <tr>\n",
       "      <th>95</th>\n",
       "      <td>20.061728</td>\n",
       "    </tr>\n",
       "    <tr>\n",
       "      <th>96</th>\n",
       "      <td>32.421875</td>\n",
       "    </tr>\n",
       "    <tr>\n",
       "      <th>97</th>\n",
       "      <td>22.491349</td>\n",
       "    </tr>\n",
       "    <tr>\n",
       "      <th>98</th>\n",
       "      <td>37.182261</td>\n",
       "    </tr>\n",
       "    <tr>\n",
       "      <th>99</th>\n",
       "      <td>21.952479</td>\n",
       "    </tr>\n",
       "  </tbody>\n",
       "</table>\n",
       "<p>100 rows × 1 columns</p>\n",
       "</div>"
      ],
      "text/plain": [
       "    Szamitott_BMI\n",
       "0       24.034610\n",
       "1       36.139456\n",
       "2       29.000595\n",
       "3       23.120624\n",
       "4       29.068773\n",
       "..            ...\n",
       "95      20.061728\n",
       "96      32.421875\n",
       "97      22.491349\n",
       "98      37.182261\n",
       "99      21.952479\n",
       "\n",
       "[100 rows x 1 columns]"
      ]
     },
     "execution_count": 8,
     "metadata": {},
     "output_type": "execute_result"
    }
   ],
   "source": [
    "df = pd.read_excel(\"BMI_kategoriak.xlsx\")\n",
    "df"
   ]
  },
  {
   "cell_type": "markdown",
   "id": "bcb9cced",
   "metadata": {},
   "source": [
    "##### BMI kategóriák létrehozására függvény "
   ]
  },
  {
   "cell_type": "markdown",
   "id": "bfe56eaa",
   "metadata": {},
   "source": [
    "\n",
    "- kapcsolódó excel file: BMI_megye.xlsx"
   ]
  },
  {
   "cell_type": "code",
   "execution_count": 3,
   "id": "45033c47",
   "metadata": {},
   "outputs": [
    {
     "name": "stdout",
     "output_type": "stream",
     "text": [
      "    Szamitott_BMI  BMI_category\n",
      "0       24.034610             3\n",
      "1       36.139456             5\n",
      "2       29.000595             4\n",
      "3       23.120624             3\n",
      "4       29.068773             4\n",
      "..            ...           ...\n",
      "95      20.061728             3\n",
      "96      32.421875             5\n",
      "97      22.491349             3\n",
      "98      37.182261             5\n",
      "99      21.952479             3\n",
      "\n",
      "[100 rows x 2 columns]\n"
     ]
    }
   ],
   "source": [
    "def categorize_bmi(bmi):\n",
    "    \"\"\"\n",
    "    Besorolja a BMI értéket a megadott kategóriákba.\n",
    "\n",
    "    Args:\n",
    "        bmi (float): A BMI érték.\n",
    "\n",
    "    Returns:\n",
    "        int: A BMI kategória sorszáma (1-6), vagy None, ha a BMI érték hiányzik.\n",
    "    \"\"\"\n",
    "    if pd.isna(bmi):\n",
    "        return None  # Hiányzó érték kezelése\n",
    "    if bmi < 16:\n",
    "        return 1  # Súlyos soványság\n",
    "    elif 16 <= bmi < 18.5:\n",
    "        return 2  # Enyhe soványság\n",
    "    elif 18.5 <= bmi < 25:\n",
    "        return 3  # Normál\n",
    "    elif 25 <= bmi < 30:\n",
    "        return 4  # Túlsúlyos (de a táblázat szerint nincs külön kategória, 4-es)\n",
    "    elif 30 <= bmi < 40: #pontositás\n",
    "        return 5  # Enyhén elhízott\n",
    "    else:\n",
    "        return 6  # (Súlyos) elhízás\n",
    "\n",
    "\n",
    "# csak a Szamitott_BMI oszlopot tartalmazza a BMI megye excel fileből\n",
    "df = pd.read_excel(\"BMI_kategoriak_szamitas.xlsx\")\n",
    "\n",
    "# Új oszlop létrehozása a BMI kategóriákkal\n",
    "df['BMI_category'] = df[\"Szamitott_BMI\"].apply(categorize_bmi)\n",
    "\n",
    "print(df)\n",
    "\n",
    "\n",
    "# CSV-ből olvasás:\n",
    "# df = pd.read_csv(\"your_data.csv\")  # Cseréld le a \"your_data.csv\"-t a fájlod nevére\n",
    "# df['BMI_category'] = df['szamitott BMI'].apply(categorize_bmi) # BMI oszlopnév\n",
    "\n",
    "\n",
    "#  Lehetőségek a hiányzó értékek kezelésére, HA a CSV-ből olvasod be az adatokat:\n",
    "# df = df.dropna(subset=['szamitott BMI']) # Hiányzó BMI értékű sorok eldobása\n",
    "# df = df.fillna({'szamitott BMI': df['szamitott BMI'].mean()}) # Hiányzó BMI-k feltöltése az átlaggal"
   ]
  },
  {
   "cell_type": "code",
   "execution_count": 9,
   "id": "5722d72c",
   "metadata": {},
   "outputs": [
    {
     "name": "stdout",
     "output_type": "stream",
     "text": [
      "Az adatok sikeresen elmentve a 'bmi_kategoriak.xlsx' fájlba.\n"
     ]
    },
    {
     "name": "stderr",
     "output_type": "stream",
     "text": [
      "C:\\Users\\erika\\AppData\\Local\\Temp\\ipykernel_26564\\3051965803.py:3: UserWarning: Pandas requires version '3.0.5' or newer of 'xlsxwriter' (version '3.0.3' currently installed).\n",
      "  df.to_excel(\"bmi_kategoriak2.xlsx\", index=False)  #C:/Users/erika/\n"
     ]
    }
   ],
   "source": [
    "# Mentés Excel fájlba\n",
    "try:\n",
    "    df.to_excel(\"bmi_kategoriak2.xlsx\", index=False)  #C:/Users/erika/\n",
    "    #df.to_excel(\"bmi_kategoriak.xlsx\", index=False)  # index=False, hogy ne írja ki az indexet\n",
    "    print(\"Az adatok sikeresen elmentve a 'bmi_kategoriak.xlsx' fájlba.\")\n",
    "except Exception as e:\n",
    "    print(f\"Hiba történt a fájl mentésekor: {e}\")"
   ]
  },
  {
   "cell_type": "code",
   "execution_count": 11,
   "id": "d0547492",
   "metadata": {},
   "outputs": [
    {
     "data": {
      "text/html": [
       "<div>\n",
       "<style scoped>\n",
       "    .dataframe tbody tr th:only-of-type {\n",
       "        vertical-align: middle;\n",
       "    }\n",
       "\n",
       "    .dataframe tbody tr th {\n",
       "        vertical-align: top;\n",
       "    }\n",
       "\n",
       "    .dataframe thead th {\n",
       "        text-align: right;\n",
       "    }\n",
       "</style>\n",
       "<table border=\"1\" class=\"dataframe\">\n",
       "  <thead>\n",
       "    <tr style=\"text-align: right;\">\n",
       "      <th></th>\n",
       "      <th>Szamitott_BMI</th>\n",
       "      <th>BMI_category</th>\n",
       "    </tr>\n",
       "  </thead>\n",
       "  <tbody>\n",
       "    <tr>\n",
       "      <th>0</th>\n",
       "      <td>24.034610</td>\n",
       "      <td>3</td>\n",
       "    </tr>\n",
       "    <tr>\n",
       "      <th>1</th>\n",
       "      <td>36.139456</td>\n",
       "      <td>5</td>\n",
       "    </tr>\n",
       "    <tr>\n",
       "      <th>2</th>\n",
       "      <td>29.000595</td>\n",
       "      <td>4</td>\n",
       "    </tr>\n",
       "    <tr>\n",
       "      <th>3</th>\n",
       "      <td>23.120624</td>\n",
       "      <td>3</td>\n",
       "    </tr>\n",
       "    <tr>\n",
       "      <th>4</th>\n",
       "      <td>29.068773</td>\n",
       "      <td>4</td>\n",
       "    </tr>\n",
       "    <tr>\n",
       "      <th>...</th>\n",
       "      <td>...</td>\n",
       "      <td>...</td>\n",
       "    </tr>\n",
       "    <tr>\n",
       "      <th>95</th>\n",
       "      <td>20.061728</td>\n",
       "      <td>3</td>\n",
       "    </tr>\n",
       "    <tr>\n",
       "      <th>96</th>\n",
       "      <td>32.421875</td>\n",
       "      <td>5</td>\n",
       "    </tr>\n",
       "    <tr>\n",
       "      <th>97</th>\n",
       "      <td>22.491349</td>\n",
       "      <td>3</td>\n",
       "    </tr>\n",
       "    <tr>\n",
       "      <th>98</th>\n",
       "      <td>37.182261</td>\n",
       "      <td>5</td>\n",
       "    </tr>\n",
       "    <tr>\n",
       "      <th>99</th>\n",
       "      <td>21.952479</td>\n",
       "      <td>3</td>\n",
       "    </tr>\n",
       "  </tbody>\n",
       "</table>\n",
       "<p>100 rows × 2 columns</p>\n",
       "</div>"
      ],
      "text/plain": [
       "    Szamitott_BMI  BMI_category\n",
       "0       24.034610             3\n",
       "1       36.139456             5\n",
       "2       29.000595             4\n",
       "3       23.120624             3\n",
       "4       29.068773             4\n",
       "..            ...           ...\n",
       "95      20.061728             3\n",
       "96      32.421875             5\n",
       "97      22.491349             3\n",
       "98      37.182261             5\n",
       "99      21.952479             3\n",
       "\n",
       "[100 rows x 2 columns]"
      ]
     },
     "execution_count": 11,
     "metadata": {},
     "output_type": "execute_result"
    }
   ],
   "source": [
    "df_2 = pd.read_excel(\"bmi_kategoriak2.xlsx\")\n",
    "df_2"
   ]
  },
  {
   "cell_type": "code",
   "execution_count": null,
   "id": "844f3b58",
   "metadata": {},
   "outputs": [],
   "source": []
  }
 ],
 "metadata": {
  "kernelspec": {
   "display_name": "Python 3 (ipykernel)",
   "language": "python",
   "name": "python3"
  },
  "language_info": {
   "codemirror_mode": {
    "name": "ipython",
    "version": 3
   },
   "file_extension": ".py",
   "mimetype": "text/x-python",
   "name": "python",
   "nbconvert_exporter": "python",
   "pygments_lexer": "ipython3",
   "version": "3.9.13"
  }
 },
 "nbformat": 4,
 "nbformat_minor": 5
}
